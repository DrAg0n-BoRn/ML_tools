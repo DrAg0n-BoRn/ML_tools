{
 "cells": [
  {
   "cell_type": "markdown",
   "metadata": {},
   "source": [
    "# Tutorial: Using the DatabaseManager"
   ]
  },
  {
   "cell_type": "markdown",
   "metadata": {},
   "source": [
    "This notebook demonstrates how to use the `DatabaseManager` from the `dragon-ml-toolbox`. This utility provides a simple and powerful interface for interacting with SQLite databases, abstracting away the boilerplate code for connections, cursors, and data handling.\n",
    "\n",
    "Workflow:\n",
    "\n",
    "1. Connecting to a database.\n",
    "2. Creating tables with a specific schema.\n",
    "3. Inspecting the database structure.\n",
    "4. Inserting data (single rows, bulk rows, and from pandas DataFrames).\n",
    "5. Querying data back into a DataFrame.\n",
    "6. Optimizing query performance by creating indexes.\n",
    "7. Executing custom SQL commands."
   ]
  },
  {
   "cell_type": "markdown",
   "metadata": {},
   "source": [
    "### **Cell 1: Setup and Imports**"
   ]
  },
  {
   "cell_type": "code",
   "execution_count": null,
   "metadata": {},
   "outputs": [],
   "source": [
    "import pandas as pd\n",
    "from pathlib import Path\n",
    "import os\n",
    "from ml_tools.SQL import DatabaseManager \n",
    "\n",
    "# Define the path for the database\n",
    "DB_PATH = Path(\"experiment_results.db\")\n",
    "\n",
    "# Clean up previous runs\n",
    "if DB_PATH.exists():\n",
    "    os.remove(DB_PATH)\n",
    "    print(f\"Removed old database: '{DB_PATH}'\")\n",
    "\n",
    "print(\"Setup complete. Ready to start.\")"
   ]
  },
  {
   "cell_type": "markdown",
   "metadata": {},
   "source": [
    "### **Cell 2: Connecting and Creating a Table**\n",
    "\n",
    "The `DatabaseManager` is best used as a context manager (`with` statement), which automatically handles opening and closing the connection, as well as committing changes or rolling them back if an error occurs.\n",
    "\n",
    "Let's define a schema for a table that will store results from a fictional experiment."
   ]
  },
  {
   "cell_type": "code",
   "execution_count": null,
   "metadata": {},
   "outputs": [],
   "source": [
    "# Define the schema for our results table\n",
    "experiment_schema = {\n",
    "    \"result_id\": \"INTEGER PRIMARY KEY AUTOINCREMENT\",\n",
    "    \"experiment_name\": \"TEXT NOT NULL\",\n",
    "    \"feature_alpha\": \"REAL\",\n",
    "    \"feature_beta\": \"REAL\",\n",
    "    \"is_priority\": \"INTEGER\", # 0 for False, 1 for True\n",
    "    \"score\": \"REAL\"\n",
    "}\n",
    "\n",
    "# Connect to the database and create the table\n",
    "try:\n",
    "    with DatabaseManager(DB_PATH) as db:\n",
    "        print(\"--- Creating table 'results' ---\")\n",
    "        db.create_table(\"results\", experiment_schema)\n",
    "        print(\"Table 'results' created successfully.\")\n",
    "except Exception as e:\n",
    "    print(f\"An error occurred: {e}\")"
   ]
  },
  {
   "cell_type": "markdown",
   "metadata": {},
   "source": [
    "### **Cell 3: Inspecting the Database**\n",
    "\n",
    "Now that we've created a table, let's verify it exists and check its schema using the built-in helper methods."
   ]
  },
  {
   "cell_type": "code",
   "execution_count": null,
   "metadata": {},
   "outputs": [],
   "source": [
    "try:\n",
    "    with DatabaseManager(DB_PATH) as db:\n",
    "        print(\"--- Listing all tables in the database ---\")\n",
    "        tables = db.list_tables()\n",
    "        print(f\"Tables found: {tables}\")\n",
    "\n",
    "        print(\"\\n--- Getting the schema for the 'results' table ---\")\n",
    "        schema_df = db.get_table_schema(\"results\")\n",
    "        print(schema_df)\n",
    "except Exception as e:\n",
    "    print(f\"An error occurred: {e}\")"
   ]
  },
  {
   "cell_type": "markdown",
   "metadata": {},
   "source": [
    "### **Cell 4: Inserting Data - One Row at a Time**\n",
    "\n",
    "The `insert_row` method is perfect for inserting single records, which is useful for logging events or results as they happen."
   ]
  },
  {
   "cell_type": "code",
   "execution_count": null,
   "metadata": {},
   "outputs": [],
   "source": [
    "# Data for our first result\n",
    "result_one = {\n",
    "    \"experiment_name\": \"alpha_test\",\n",
    "    \"feature_alpha\": 0.15,\n",
    "    \"feature_beta\": 0.85,\n",
    "    \"is_priority\": 0,\n",
    "    \"score\": 92.3\n",
    "}\n",
    "\n",
    "try:\n",
    "    with DatabaseManager(DB_PATH) as db:\n",
    "        print(\"--- Inserting a single row ---\")\n",
    "        db.insert_row(\"results\", result_one)\n",
    "        \n",
    "        # Let's verify by querying the data\n",
    "        df = db.query_to_dataframe(\"SELECT * FROM results\")\n",
    "        print(df)\n",
    "except Exception as e:\n",
    "    print(f\"An error occurred: {e}\")"
   ]
  },
  {
   "cell_type": "markdown",
   "metadata": {},
   "source": [
    "### **Cell 5: Inserting Data - Bulk Insertion**\n",
    "\n",
    "For performance, when you have many records to insert at once, `insert_many` is far more efficient than calling `insert_row` in a loop."
   ]
  },
  {
   "cell_type": "code",
   "execution_count": null,
   "metadata": {},
   "outputs": [],
   "source": [
    "# A list of dictionaries for bulk insertion\n",
    "many_results = [\n",
    "    {\"experiment_name\": \"beta_test\", \"feature_alpha\": 0.5, \"feature_beta\": 0.5, \"is_priority\": 1, \"score\": 95.1},\n",
    "    {\"experiment_name\": \"beta_test\", \"feature_alpha\": 0.4, \"feature_beta\": 0.6, \"is_priority\": 0, \"score\": 94.8},\n",
    "    {\"experiment_name\": \"beta_test\", \"feature_alpha\": 0.3, \"feature_beta\": 0.7, \"is_priority\": 0, \"score\": 94.5},\n",
    "]\n",
    "\n",
    "try:\n",
    "    with DatabaseManager(DB_PATH) as db:\n",
    "        print(\"--- Inserting multiple rows with insert_many ---\")\n",
    "        db.insert_many(\"results\", many_results)\n",
    "        \n",
    "        # Verify the new data\n",
    "        df = db.query_to_dataframe(\"SELECT * FROM results\")\n",
    "        print(df)\n",
    "except Exception as e:\n",
    "    print(f\"An error occurred: {e}\")"
   ]
  },
  {
   "cell_type": "markdown",
   "metadata": {},
   "source": [
    "### **Cell 6: Inserting Data - From a Pandas DataFrame**\n",
    "\n",
    "A very common use case is having data already in a pandas DataFrame. The `insert_from_dataframe` method handles this seamlessly."
   ]
  },
  {
   "cell_type": "code",
   "execution_count": null,
   "metadata": {},
   "outputs": [],
   "source": [
    "# Create a sample DataFrame\n",
    "df_results = pd.DataFrame([\n",
    "    {\"experiment_name\": \"gamma_run\", \"feature_alpha\": 0.9, \"feature_beta\": 0.1, \"is_priority\": 1, \"score\": 99.8},\n",
    "    {\"experiment_name\": \"gamma_run\", \"feature_alpha\": 0.8, \"feature_beta\": 0.2, \"is_priority\": 1, \"score\": 99.1},\n",
    "])\n",
    "\n",
    "try:\n",
    "    with DatabaseManager(DB_PATH) as db:\n",
    "        print(\"--- Inserting data from a pandas DataFrame ---\")\n",
    "        db.insert_from_dataframe(\"results\", df_results)\n",
    "        \n",
    "        # Verify the final state of the table\n",
    "        df = db.query_to_dataframe(\"SELECT * FROM results\")\n",
    "        print(\"--- Full table content ---\")\n",
    "        print(df)\n",
    "except Exception as e:\n",
    "    print(f\"An error occurred: {e}\")"
   ]
  },
  {
   "cell_type": "markdown",
   "metadata": {},
   "source": [
    "### **Cell 7: Querying Data**\n",
    "\n",
    "The `query_to_dataframe` method can execute any `SELECT` statement. For security and correctness, it's best practice to use `?` placeholders for parameters."
   ]
  },
  {
   "cell_type": "code",
   "execution_count": null,
   "metadata": {},
   "outputs": [],
   "source": [
    "try:\n",
    "    with DatabaseManager(DB_PATH) as db:\n",
    "        print(\"--- Querying all 'beta_test' experiments ---\")\n",
    "        beta_df = db.query_to_dataframe(\n",
    "            \"SELECT * FROM results WHERE experiment_name = ?\", \n",
    "            (\"beta_test\",)\n",
    "        )\n",
    "        print(beta_df)\n",
    "\n",
    "        print(\"\\n--- Querying high-priority runs with a score > 99 ---\")\n",
    "        high_score_df = db.query_to_dataframe(\n",
    "            \"SELECT experiment_name, score FROM results WHERE is_priority = ? AND score > ?\",\n",
    "            (1, 99.0)\n",
    "        )\n",
    "        print(high_score_df)\n",
    "except Exception as e:\n",
    "    print(f\"An error occurred: {e}\")"
   ]
  },
  {
   "cell_type": "markdown",
   "metadata": {},
   "source": [
    "### **Cell 8: Creating an Index for Performance**\n",
    "\n",
    "When a table grows large, queries can become slow. Creating an index on frequently queried columns dramatically speeds up data retrieval."
   ]
  },
  {
   "cell_type": "code",
   "execution_count": null,
   "metadata": {},
   "outputs": [],
   "source": [
    "try:\n",
    "    with DatabaseManager(DB_PATH) as db:\n",
    "        print(\"--- Creating an index on the 'score' column ---\")\n",
    "        db.create_index(\"results\", \"score\")\n",
    "        \n",
    "        print(\"\\n--- Creating a second index on 'experiment_name' ---\")\n",
    "        db.create_index(\"results\", \"experiment_name\")\n",
    "        \n",
    "        print(\"\\nIndexes created. Queries on 'score' and 'experiment_name' will now be much faster.\")\n",
    "except Exception as e:\n",
    "    print(f\"An error occurred: {e}\")"
   ]
  },
  {
   "cell_type": "markdown",
   "metadata": {},
   "source": [
    "### **Cell 9: Executing Custom SQL**\n",
    "\n",
    "For any other SQL command that doesn't return data (like `UPDATE` or `DELETE`), you can use the `execute_sql` method."
   ]
  },
  {
   "cell_type": "code",
   "execution_count": null,
   "metadata": {},
   "outputs": [],
   "source": [
    "try:\n",
    "    with DatabaseManager(DB_PATH) as db:\n",
    "        print(\"--- Updating a record using execute_sql ---\")\n",
    "        # Let's update the score for result_id = 1\n",
    "        db.execute_sql(\"UPDATE results SET score = ? WHERE result_id = ?\", (92.5, 1))\n",
    "        \n",
    "        # Verify the change\n",
    "        updated_row = db.query_to_dataframe(\"SELECT * FROM results WHERE result_id = 1\")\n",
    "        print(updated_row)\n",
    "except Exception as e:\n",
    "    print(f\"An error occurred: {e}\")"
   ]
  }
 ],
 "metadata": {
  "kernelspec": {
   "display_name": "Python 3",
   "language": "python",
   "name": "python3"
  },
  "language_info": {
   "codemirror_mode": {
    "name": "ipython",
    "version": 3
   },
   "file_extension": ".py",
   "mimetype": "text/x-python",
   "name": "python",
   "nbconvert_exporter": "python",
   "pygments_lexer": "ipython3",
   "version": "3.10.9"
  }
 },
 "nbformat": 4,
 "nbformat_minor": 4
}
